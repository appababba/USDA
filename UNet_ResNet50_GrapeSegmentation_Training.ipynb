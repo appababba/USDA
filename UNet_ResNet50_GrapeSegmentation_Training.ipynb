{
  "cells": [
    {
      "cell_type": "markdown",
      "metadata": {
        "id": "view-in-github",
        "colab_type": "text"
      },
      "source": [
        "<a href=\"https://colab.research.google.com/github/appababba/USDA/blob/main/UNet_ResNet50_GrapeSegmentation_Training.ipynb\" target=\"_parent\"><img src=\"https://colab.research.google.com/assets/colab-badge.svg\" alt=\"Open In Colab\"/></a>"
      ]
    },
    {
      "cell_type": "code",
      "execution_count": null,
      "metadata": {
        "id": "M432Uhv4ATAG"
      },
      "outputs": [],
      "source": [
        "!pip install -q segmentation-models-pytorch\n",
        "!pip install -q --upgrade scipy"
      ]
    },
    {
      "cell_type": "code",
      "execution_count": null,
      "metadata": {
        "colab": {
          "base_uri": "https://localhost:8080/"
        },
        "id": "8v6sOrf1AQyU",
        "outputId": "6982ddad-6925-46b8-abb2-7de26674ef88"
      },
      "outputs": [
        {
          "name": "stdout",
          "output_type": "stream",
          "text": [
            "🚀 Starting the complete UNet-ResNet50 training pipeline...\n",
            "Drive already mounted at /content/drive; to attempt to forcibly remount, call drive.mount(\"/content/drive\", force_remount=True).\n",
            "✅ Google Drive mounted.\n"
          ]
        }
      ],
      "source": [
        "# 1. Setup, Imports, and Google Drive Mount\n",
        "import os\n",
        "import random\n",
        "import subprocess\n",
        "import collections\n",
        "import numpy as np\n",
        "import cv2\n",
        "from glob import glob\n",
        "from tqdm.notebook import tqdm\n",
        "import matplotlib.pyplot as plt\n",
        "from sklearn.model_selection import train_test_split\n",
        "from contextlib import nullcontext\n",
        "\n",
        "import torch\n",
        "import torch.nn as nn\n",
        "import torch.optim as optim\n",
        "from torch.utils.data import Dataset, DataLoader\n",
        "import segmentation_models_pytorch as smp\n",
        "from google.colab import drive\n",
        "\n",
        "print(\" Starting the complete UNet-ResNet50 training pipeline...\")\n",
        "try:\n",
        "    drive.mount('/content/drive')\n",
        "    print(\" Google Drive mounted.\")\n",
        "except Exception as e:\n",
        "    print(f\"ℹ Drive already mounted or mount error: {e}\")"
      ]
    },
    {
      "cell_type": "code",
      "execution_count": null,
      "metadata": {
        "colab": {
          "base_uri": "https://localhost:8080/"
        },
        "id": "JEGz6c31AeeZ",
        "outputId": "de50f8af-26e1-4e99-b830-334b826a9726"
      },
      "outputs": [
        {
          "name": "stdout",
          "output_type": "stream",
          "text": [
            "✅ Configuration updated. Local image path set to: /content/data/images\n"
          ]
        }
      ],
      "source": [
        "# 2. Configuration & Hyperparameters\n",
        "\n",
        "# --- Paths ---\n",
        "BASE_DRIVE_DIR = '/content/drive/Shared drives/USDA-Summer2025/data'\n",
        "IMAGE_DIR_DRIVE = os.path.join(BASE_DRIVE_DIR, 'Exported_Images')\n",
        "MASK_DIR_DRIVE  = os.path.join(BASE_DRIVE_DIR, 'Exported_Masks')\n",
        "MODELS_SAVE_DIR = '/content/drive/Shared drives/USDA-Summer2025/models'\n",
        "\n",
        "# --- CORRECTED LOCAL PATHS ---\n",
        "LOCAL_IMG_DIR  = '/content/data/images'\n",
        "LOCAL_MASK_DIR = '/content/data/masks'\n",
        "\n",
        "# --- Hyperparameters ---\n",
        "DEVICE = torch.device(\"cuda\" if torch.cuda.is_available() else \"cpu\")\n",
        "torch.backends.cudnn.benchmark = True\n",
        "IMG_SIZE = (256, 256)\n",
        "BATCH_SIZE = 8\n",
        "LEARNING_RATE = 1e-4\n",
        "NUM_EPOCHS = 15\n",
        "RANDOM_SEED = 42\n",
        "\n",
        "# --- Mixed Precision Setup ---\n",
        "USE_AMP = (DEVICE.type == 'cuda')\n",
        "amp_autocast = torch.amp.autocast(device_type=DEVICE.type, dtype=torch.float16) if USE_AMP else nullcontext()\n",
        "scaler = torch.amp.GradScaler(enabled=USE_AMP)\n",
        "\n",
        "print(f\"✅ Configuration updated. Local image path set to: {LOCAL_IMG_DIR}\")"
      ]
    },
    {
      "cell_type": "code",
      "execution_count": null,
      "metadata": {
        "colab": {
          "base_uri": "https://localhost:8080/"
        },
        "id": "zcRnQW6FAgML",
        "outputId": "5cd04e20-561e-451a-c322-b375700ec584"
      },
      "outputs": [
        {
          "name": "stdout",
          "output_type": "stream",
          "text": [
            "🔎 Checking mount and base...\n",
            "drive root: ['Shareddrives', 'MyDrive', '.shortcut-targets-by-id', '.Trash-0']\n",
            "shared drives: ['CSci158', 'Term Project', 'USDA-Summer2025']\n",
            "✅ /content/drive/Shareddrives/USDA-Summer2025/data exists with 7 items\n",
            "   • Exported_Images\n",
            "   • Exported_Masks\n",
            "   • Julian\n",
            "   • RealData\n",
            "   • Section 8\n",
            "✅ /content/drive/Shareddrives/USDA-Summer2025/data/Exported_Images exists with 1217 items\n",
            "   • IMG_3459_085619_20250813_section1.jpg\n",
            "   • IMG_3462_085619_20250813_section1.jpg\n",
            "   • IMG_3468_085619_20250813_section1.jpg\n",
            "   • IMG_3471_085619_20250813_section1.jpg\n",
            "   • IMG_3472_085620_20250813_section1.jpg\n",
            "✅ /content/drive/Shareddrives/USDA-Summer2025/data/Exported_Masks exists with 1217 items\n",
            "   • IMG_3459_085619_20250813_section1_mask.png\n",
            "   • IMG_3462_085619_20250813_section1_mask.png\n",
            "   • IMG_3468_085619_20250813_section1_mask.png\n",
            "   • IMG_3471_085619_20250813_section1_mask.png\n",
            "   • IMG_3472_085620_20250813_section1_mask.png\n",
            "\n",
            "▶ Running: rsync -a --info=progress2 /content/drive/Shareddrives/USDA-Summer2025/data/Exported_Images/ /content/data/images/\n",
            "✅ Sync complete → /content/data/images\n",
            "\n",
            "▶ Running: rsync -a --info=progress2 /content/drive/Shareddrives/USDA-Summer2025/data/Exported_Masks/ /content/data/masks/\n",
            "✅ Sync complete → /content/data/masks\n"
          ]
        }
      ],
      "source": [
        "import os, subprocess, textwrap, sys\n",
        "\n",
        "# 1) Define sources\n",
        "BASE = \"/content/drive/Shareddrives/USDA-Summer2025/data\"\n",
        "IMG_SRC  = f\"{BASE}/Exported_Images\"\n",
        "MASK_SRC = f\"{BASE}/Exported_Masks\"\n",
        "\n",
        "# 2) Define local targets\n",
        "LOCAL_IMG = \"/content/data/images\"\n",
        "LOCAL_MSK = \"/content/data/masks\"\n",
        "os.makedirs(LOCAL_IMG, exist_ok=True)\n",
        "os.makedirs(LOCAL_MSK, exist_ok=True)\n",
        "\n",
        "def check_dir(p):\n",
        "    if not os.path.isdir(p):\n",
        "        raise FileNotFoundError(f\" Not found (check spelling/case): {p}\")\n",
        "    items = os.listdir(p)\n",
        "    print(f\"✅ {p} exists with {len(items)} items\")\n",
        "    # Show a few samples\n",
        "    for name in sorted(items)[:5]:\n",
        "        print(\"   •\", name)\n",
        "\n",
        "print(\" Checking mount and base...\")\n",
        "print(\"drive root:\", os.listdir(\"/content/drive\"))\n",
        "print(\"shared drives:\", os.listdir(\"/content/drive/Shareddrives\"))\n",
        "\n",
        "check_dir(BASE)\n",
        "check_dir(IMG_SRC)\n",
        "check_dir(MASK_SRC)\n",
        "\n",
        "def rsync_copy(src, dst):\n",
        "    # trailing slashes copy *contents* into dst\n",
        "    cmd = [\"rsync\", \"-a\", \"--info=progress2\", src + \"/\", dst + \"/\"]\n",
        "    print(\"\\n Running:\", \" \".join(cmd))\n",
        "    subprocess.run(cmd, check=True)\n",
        "    print(f\" Sync complete → {dst}\")\n",
        "\n",
        "rsync_copy(IMG_SRC,  LOCAL_IMG)\n",
        "rsync_copy(MASK_SRC, LOCAL_MSK)\n"
      ]
    },
    {
      "cell_type": "code",
      "execution_count": null,
      "metadata": {
        "id": "xJdmB8MPAh5W"
      },
      "outputs": [],
      "source": [
        "# 4. Group Extraction\n",
        "import re\n",
        "\n",
        "def extract_group(path):\n",
        "    \"\"\"Extracts a group identifier (e.g., '20250813_sec1') from a filename.\"\"\"\n",
        "    filename = os.path.basename(path)\n",
        "    m_date = re.search(r'_(\\d{8})_', filename)\n",
        "    m_sec  = re.search(r'section(\\d+)', filename, re.IGNORECASE)\n",
        "\n",
        "    date_str = m_date.group(1) if m_date else \"nodate\"\n",
        "    sec_str = m_sec.group(1) if m_sec else \"nosec\"\n",
        "\n",
        "    return f\"{date_str}_sec{sec_str}\""
      ]
    },
    {
      "cell_type": "code",
      "execution_count": null,
      "metadata": {
        "colab": {
          "base_uri": "https://localhost:8080/"
        },
        "id": "oJPHEZG0Aj9y",
        "outputId": "c42da861-de1a-48d7-ff96-4e9353df88ba"
      },
      "outputs": [
        {
          "name": "stdout",
          "output_type": "stream",
          "text": [
            "\n",
            "🛡️ Setting up GROUP-AWARE data splits...\n",
            "Found 1217 images across 12 unique groups.\n",
            "Train-Val Overlap: 0\n",
            "Train-Test Overlap: 0\n",
            "✅ Group split complete with no overlap.\n"
          ]
        }
      ],
      "source": [
        "# 5. Group-Aware Data Splitting\n",
        "\n",
        "img_exts = ('*.jpg', '*.jpeg', '*.png', '*.JPG', '*.PNG')\n",
        "all_local_image_paths = []\n",
        "for ext in img_exts:\n",
        "    all_local_image_paths.extend(glob(os.path.join(LOCAL_IMG_DIR, ext)))\n",
        "if not all_local_image_paths:\n",
        "    raise RuntimeError(f\"No images found in {LOCAL_IMG_DIR}\")\n",
        "\n",
        "# 1. Map all images to their group ID\n",
        "images_by_group = collections.defaultdict(list)\n",
        "for path in all_local_image_paths:\n",
        "    group_id = extract_group(path)\n",
        "    images_by_group[group_id].append(path)\n",
        "\n",
        "unique_groups = sorted(list(images_by_group.keys()))\n",
        "print(f\"Found {len(all_local_image_paths)} images across {len(unique_groups)} unique groups.\")\n",
        "\n",
        "# 2. Split the list of unique groupsi, not the images\n",
        "random.seed(RANDOM_SEED); random.shuffle(unique_groups)\n",
        "train_val_groups, test_groups = train_test_split(unique_groups, test_size=0.20, random_state=RANDOM_SEED)\n",
        "train_groups, val_groups      = train_test_split(train_val_groups, test_size=0.15, random_state=RANDOM_SEED)\n",
        "\n",
        "# 3. Build the final image lists from the split groups\n",
        "def get_paths_from_groups(groups, group_map):\n",
        "    return [path for group in groups for path in group_map[group]]\n",
        "\n",
        "train_paths = get_paths_from_groups(train_groups, images_by_group)\n",
        "val_paths   = get_paths_from_groups(val_groups, images_by_group)\n",
        "test_paths  = get_paths_from_groups(test_groups, images_by_group)\n",
        "\n",
        "# 4. Final shuffle for randomness during training\n",
        "random.seed(RANDOM_SEED)\n",
        "random.shuffle(train_paths)\n",
        "random.shuffle(val_paths)\n",
        "random.shuffle(test_paths)\n",
        "\n",
        "# 5. Verify no overlap\n",
        "train_set_groups = {extract_group(p) for p in train_paths}\n",
        "val_set_groups = {extract_group(p) for p in val_paths}\n",
        "test_set_groups = {extract_group(p) for p in test_paths}\n",
        "print(f\"Train-Val Overlap: {len(train_set_groups & val_set_groups)}\")\n",
        "print(f\"Train-Test Overlap: {len(train_set_groups & test_set_groups)}\")\n",
        "print(\" Group split complete with no overlap.\")"
      ]
    },
    {
      "cell_type": "code",
      "execution_count": null,
      "metadata": {
        "colab": {
          "base_uri": "https://localhost:8080/"
        },
        "id": "Z0zfHYOlFhEK",
        "outputId": "b61bb223-8163-43ab-a0f0-f0b94ccbd387"
      },
      "outputs": [
        {
          "name": "stdout",
          "output_type": "stream",
          "text": [
            "Per-extension counts: {'*.jpg': 1217, '*.jpeg': 0, '*.png': 0, '*.JPG': 0, '*.PNG': 0}\n",
            "Total found: 1217\n",
            "Sample dir: /content/data/images\n"
          ]
        }
      ],
      "source": [
        "from glob import glob\n",
        "import os, collections\n",
        "\n",
        "img_exts = ('*.jpg', '*.jpeg', '*.png', '*.JPG', '*.PNG')\n",
        "counts = {}\n",
        "all_paths = []\n",
        "for ext in img_exts:\n",
        "    ps = glob(os.path.join(LOCAL_IMG_DIR, ext))\n",
        "    counts[ext] = len(ps)\n",
        "    all_paths.extend(ps)\n",
        "\n",
        "print(\"Per-extension counts:\", counts)\n",
        "print(\"Total found:\", len(all_paths))\n",
        "print(\"Sample dir:\", LOCAL_IMG_DIR)\n"
      ]
    },
    {
      "cell_type": "code",
      "execution_count": null,
      "metadata": {
        "colab": {
          "base_uri": "https://localhost:8080/"
        },
        "id": "5KelmHR4Ank3",
        "outputId": "2061b052-cd1f-4bbb-f4b5-c21f5c742a79"
      },
      "outputs": [
        {
          "name": "stdout",
          "output_type": "stream",
          "text": [
            "Data ready. Train: 639, Validation: 121, Test: 457\n"
          ]
        }
      ],
      "source": [
        "# 6. PyTorch Dataset and DataLoaders\n",
        "\n",
        "class GrapeDataset(Dataset):\n",
        "    def __init__(self, image_paths, mask_dir, size=(256, 256)):\n",
        "        self.image_paths = image_paths\n",
        "        self.mask_dir = mask_dir\n",
        "        self.size = size\n",
        "\n",
        "    def __len__(self):\n",
        "        return len(self.image_paths)\n",
        "\n",
        "    def __getitem__(self, idx):\n",
        "        img_path = self.image_paths[idx]\n",
        "        image_bgr = cv2.imread(img_path, cv2.IMREAD_COLOR)\n",
        "        if image_bgr is None:\n",
        "            raise FileNotFoundError(f\"Failed to read image: {img_path}\")\n",
        "        image = cv2.cvtColor(image_bgr, cv2.COLOR_BGR2RGB)\n",
        "        image = cv2.resize(image, self.size, interpolation=cv2.INTER_LINEAR)\n",
        "\n",
        "        base_name, _ = os.path.splitext(os.path.basename(img_path))\n",
        "        mask_path = os.path.join(self.mask_dir, f\"{base_name}_mask.png\")\n",
        "        if not os.path.exists(mask_path):\n",
        "             mask_path = os.path.join(self.mask_dir, os.path.basename(img_path))\n",
        "        mask = cv2.imread(mask_path, cv2.IMREAD_GRAYSCALE)\n",
        "        if mask is None:\n",
        "            raise FileNotFoundError(f\"Failed to read mask for {img_path} at {mask_path}\")\n",
        "        mask = cv2.resize(mask, self.size, interpolation=cv2.INTER_NEAREST)\n",
        "        mask = (mask > 0).astype(np.float32)\n",
        "\n",
        "        image = torch.from_numpy(image).permute(2, 0, 1).float() / 255.0\n",
        "        mask  = torch.from_numpy(mask).unsqueeze(0).float()\n",
        "        return image, mask\n",
        "\n",
        "train_dataset = GrapeDataset(train_paths, LOCAL_MASK_DIR, size=IMG_SIZE)\n",
        "val_dataset   = GrapeDataset(val_paths,   LOCAL_MASK_DIR, size=IMG_SIZE)\n",
        "test_dataset  = GrapeDataset(test_paths,  LOCAL_MASK_DIR, size=IMG_SIZE)\n",
        "\n",
        "train_loader = DataLoader(train_dataset, batch_size=BATCH_SIZE, shuffle=True, num_workers=2, pin_memory=True)\n",
        "val_loader = DataLoader(val_dataset, batch_size=BATCH_SIZE, shuffle=False, num_workers=2, pin_memory=True)\n",
        "test_loader = DataLoader(test_dataset, batch_size=BATCH_SIZE, shuffle=False, num_workers=2, pin_memory=True)\n",
        "\n",
        "print(f\"Data ready. Train: {len(train_dataset)}, Validation: {len(val_dataset)}, Test: {len(test_dataset)}\")"
      ]
    },
    {
      "cell_type": "code",
      "execution_count": null,
      "metadata": {
        "colab": {
          "base_uri": "https://localhost:8080/"
        },
        "id": "-hpoAPYjApIn",
        "outputId": "0b1dfbd1-69b4-4a72-d4fc-437442d7d219"
      },
      "outputs": [
        {
          "name": "stdout",
          "output_type": "stream",
          "text": [
            "\n",
            "🧠 Initializing UNet+ResNet50 model...\n"
          ]
        }
      ],
      "source": [
        "# 7. Model, Loss Function, and Optimizer\n",
        "\n",
        "print(\"\\n🧠 Initializing UNet+ResNet50 model...\")\n",
        "model = smp.Unet(\n",
        "    encoder_name='resnet50',\n",
        "    encoder_weights='imagenet',\n",
        "    in_channels=3,\n",
        "    classes=1,\n",
        "    activation=None\n",
        ").to(DEVICE)\n",
        "\n",
        "# Combined Dice and BCE loss is robust for segmentation\n",
        "dice_loss = smp.losses.DiceLoss(mode='binary')\n",
        "bce_loss  = nn.BCEWithLogitsLoss()\n",
        "def combined_loss(pred, target):\n",
        "    return bce_loss(pred, target) + dice_loss(pred, target)\n",
        "\n",
        "optimizer = torch.optim.Adam(model.parameters(), lr=LEARNING_RATE)\n",
        "scheduler = torch.optim.lr_scheduler.ReduceLROnPlateau(optimizer, mode='max', factor=0.5, patience=2)"
      ]
    },
    {
      "cell_type": "code",
      "execution_count": null,
      "metadata": {
        "colab": {
          "base_uri": "https://localhost:8080/",
          "height": 593,
          "referenced_widgets": [
            "58c3a9fd7e3141f1b5916ee24056d53d",
            "7342c72b91774f04aed5bdcb099a4640",
            "8f57933904ee484490fa097a2ca46287",
            "b2a9803e2cbc4e6cbfa48b0096961322",
            "116fe3912d2847928214949038c0e8fd",
            "7e52ae0788b34296a1b39e597b88dbbd",
            "0bc434f5a85143e1b506f7b2ddf4d175",
            "9704d1e2a53647c18dc7cc4a30c459a8",
            "b6dad6d7d70e40af8d76089a654b1f67",
            "26f5d9239fbd453c9f6fd423cbe25aa4",
            "bddba7930383446d9043724693848865",
            "c8b5debbddf543f397c067536be3654d",
            "09bafb0416f5472e9a7ca8a543751329",
            "e027141e588e49c0b7e6a257b0a7d8b0",
            "a1ee6654cfd44e07a0dadccc77eb2882",
            "b547d5cdb6b9452d9d0ba35eddd1b68d",
            "b9b962ffaa9c4ae1838aea35e91d5ace",
            "6be252b1b52c4b3689cb4e639f35daf2",
            "4f56fc3b0cb84d7b88c3154cc0e94212",
            "4e04af36f81d4d808a8627dd00be4cf5",
            "8ce03d30c81d40ff960993f2ce4004ca",
            "45993c84567d4356b84364f91b43044a",
            "fd8fc328d6224275b146cff0d9d7b2d6",
            "832d02df0ab5434e9e844660b53bf3bb",
            "a23604073ed146b39a5a8d2466b38d44",
            "d1d9e540209245bd9e3359ba3c8330a9",
            "895287d7bd764a8997d22bb89fb9bb3e",
            "40a670dab13f4de3a17762a7b4d1cf37",
            "caff9442adc94fad8258c2d12651e1b3",
            "442b1ddd89994e83a3274bccc2557508",
            "fe16363635e045c5a8e32b2a2ec068dc",
            "01d4d5d837434d5ea23d1ba885687919",
            "e61efc9988254d568696fca54bc3d89c",
            "0d0bb2df7acd48e6bd5367fbb7f29f1e",
            "6a30ddf2e6c34feabe046a4c4d4a828e",
            "aaa5cd4b2e1f461a81d01c04aec73d72",
            "4b7154081eb240d5a4a53f7232e59e3a",
            "0ade962f69cd4cf7a7c3fad2abdfc96b",
            "a1e20fcfe6ed45ab89e8820f271e90d6",
            "0df4fe10b0634227b373c95683f90d8e",
            "495f040a96894aad934a874c9e8447bc",
            "f853cd5d2dbc488880fedeb583757f34",
            "3d8dc7b71208425da2bef263edd45792",
            "8e8d94e6f8444204bcccef5d661645da",
            "26753c6466084489b3d29c50e295ed05",
            "4c6fe999315b4896b2f5cd2fdcccfae0",
            "d1161f41d13a4b79970fc69a94341be7",
            "6ea87675a5c243c98641d8f564fc7e7e",
            "6ed16db630424fb8b6e7595710a77b77",
            "bcc3ebc688b5416ba415a7ed4e2e3d41",
            "19d455a140b94e77bd76071996db8e7a",
            "27fcf8af3afb4866bee681969032def1",
            "c3aeef91c8604c8a8b0ee94a9c848d0f",
            "c40e23c843d044acafe0b36c91254441",
            "2d6880af86ab4c1993c8952d154c85a1",
            "b367ed123ce44d9fa832e14fab11074e",
            "c87fde19128d453b85299da19d79d4e7",
            "2d8f84d3322141b492c78b2643152979",
            "404964cffbe0411b91c283d31c6eb54c",
            "5690680ff5f54d149dd0050cdb538520",
            "8dba93a9424d47f1b7110f721d98e17e",
            "a2556ab5006b41e5b2fd3d7740ddb8c8",
            "88b42460233849f4a4f48bdd7707b664",
            "5ef93d065f4a4f2ea6e9240a6ec25c51",
            "7f1a5cb09a7448bb828de7a3f702ab53",
            "bd369d30b0994bd0b9026114bb45bbdc",
            "75798dde12ad4d098d8cffa716ce3ac0",
            "29fcf575760a488d8fb2b9db260ae62f",
            "76daa12c8dd64c999a69d5c24531c9f5",
            "9312f8c9605d41ebbf97c6d8c5f832c9",
            "f495ced118c94acb91a10d40e8fb327a",
            "32fac5c9567e454a86018dd423007f9c",
            "9f2eb0c7b3d94f54a6c20ba174fd5e53",
            "3860ccd790034b658e034143ab256783",
            "c018cdcf5c5f485480117f09e31f21c5",
            "c53038daf8a7404db801c44c541de20d",
            "fa4598c608734722b3cfcf204ce3fb7e",
            "85e7e65c11a34518a2bb8fecacf5351b",
            "ed9b0ed244324a658c4bda06a859c429",
            "145140777e994d24b36333d693c24178",
            "44c97df563f64bd6a09e4074a630fb24",
            "356de8a4d1084111b54023c7fa6486fc",
            "e0f596c11d6e48a8b7bd32b28bd35179",
            "c84286ec05db4094a5cf24f8a6c6bd2e",
            "afefdf56326646fab31cb54a0826401f",
            "26b7cecf7d77460e94d6ffedfa80f458",
            "500324bc438c405e9e536a2db5880491",
            "2036014694d8466d9055bcd0f41b966b",
            "f65e0a6d78684ba1bf7343b8ff73c674",
            "638b074f25b54a2198af0e155ae50e54",
            "3a34f9bc34204611b0a1b79c315c3f9e",
            "7cdd77277af24f619753f683691dbc2b",
            "2ca0adbc183c4ffea0c4999df6cde99b",
            "7b72e9463e8c4238ab2bcdcf6bde9d57",
            "aee9b9bdf70441128606f55a2847d7e9",
            "ff30d31c80e4407c8e2ce2c323a975ac",
            "99c28a2724fd486787356c5f1100a273",
            "195afbfe1fa14661ab075809bb6df355",
            "d07f63a828124f9da902232766704e1f",
            "892723961f3a46c08f60c9263ea74d35",
            "351f5754a06b40709f96a4f3adbb47ff",
            "dca9f7e02c0e4fceb9a1599e30a77e2a",
            "2b80c829333445f6813ce405426a1666",
            "b8614f4eea1b42e88859a3e15e80825b",
            "20d93027cdae4a7e9393e30c591d609b",
            "ed223afbb52b4c0b84af6204e88ab938",
            "6f0a340efafb43f29528167097f86f92",
            "e5aa8bc817064280a8229cbe74f6a4fa",
            "e340a1b0e1e24f9e91e574887fd56e9e",
            "2619e6afd8664d838ba557ce2ba0d5d8",
            "28b77ae705ca464f94530b3c30156d2f",
            "fc2f9f4e80814dc9afab68063b514b52",
            "9d329a46a0fc46dea250673087c0f523",
            "17bc33c62bb845a59a26f079d68113cf",
            "27cd9f58df454f63b58e339a512401a6",
            "9914b5cd9ab74561b5179e558e0c253e",
            "9fca73d153a746e08d319f87e70f6828",
            "48e619db538a477cbc9cda7b779310a6",
            "5d62de31e6a544f8a439721042329e0f",
            "545bdca1dffa40dbb7a65fc6cfdf65fb",
            "7900698dc76f44e68183be176d749c5e",
            "0a67a5b9484247a2b356470d4ad06903",
            "b0764bcbd28c40c1b4f1bd5102be7c4b",
            "f2cbd5577e2b4aaf856069e07710643d",
            "f96e85fcdaf3454abd0a04d8a99c5cc7",
            "67a475e8d07c41679a3c3d0e23c9494d",
            "ea923d7d2a924c34bd584cdeb63a5bc2",
            "091959ff7c18455ebaabcd9efabb6853",
            "c3420e52766a4d3288907e92a5724db1",
            "f8e98dfd9c2941ad9369db5f28a9ac12",
            "79ac714e5ae643f5bcaa2e0626919e8e",
            "ce2f3707818f4212947469940ee5ae05",
            "3904dbe03f9346fdbd9706831a5a2525",
            "ac6879c0910c4f229dac83836c4ee328",
            "1529aac4ad004dcaaf332e4b9f0414a7",
            "024e4b4c642349c687563b4659f5a559",
            "9dc72483ddbb45a5bb4be958d724b8cd",
            "3456bf1a2fcb4fd1ac5bd6f4c3f2941f",
            "6199e305785b4f31b446fc8f68d153f2",
            "3e9485904cd342b3bb6b694360ccf4c4",
            "4e8c6cf7709346c28d0ae4e00097534e",
            "1b82dc51894f4b73b975ad822bb24034",
            "3e87f9e5b116498898d76ecdf15f4e18",
            "ffec9fabefb34c36993f61ee701b3cae",
            "190dce5c89be4f88af29c32bb77d5b81",
            "99fc51f5fb8a467b9cad80bde68d4464",
            "0ac9f7dbe53a49648be998276dd103ea",
            "08d2a767bbd74021859ce61ffc830612",
            "6e7ed2c2dfc54499b6bcb942bf666e56",
            "831b6971cbe64a66b6113997f7fedcc5",
            "01d34148dfa64954b5cc4ef4e445315d",
            "cdb5526760bf4951b73d104c3aa6b05d",
            "ba0656d809ee4788bf2d50ea2e8c2ef1",
            "9233fcb2c2134efca6939743d1f5951b",
            "2ceb5f34074343c0a530affca821954e",
            "7da599a97f264029b17a743f98ff6014",
            "eba4f73f7c6f40438aa5959b648277da",
            "1116769ef99d4acb86e56b8c4a18cb27",
            "b55f317b677b44f8bca06a1c6c6a20a1",
            "0c395e189e074c149724aff46b8bf545",
            "a6d51ae1e26943e2b4c87bea9199cbef",
            "f73f18bf6897464ab6b874785e4e997a",
            "a59485ef1f03414a97684953d764fbd4",
            "5dea3aac71fa4161a18cc7fa006f7cf3",
            "4485c8c564ef491d9c75f67ee50d0271"
          ]
        },
        "id": "PHXBcjghAq7R",
        "outputId": "75c51cbe-59a0-4e31-fc80-36078ee6ab14"
      },
      "outputs": [
        {
          "name": "stdout",
          "output_type": "stream",
          "text": [
            "\n",
            "🚦 Starting main training loop...\n"
          ]
        },
        {
          "data": {
            "application/vnd.jupyter.widget-view+json": {
              "model_id": "58c3a9fd7e3141f1b5916ee24056d53d",
              "version_major": 2,
              "version_minor": 0
            },
            "text/plain": [
              "Training:   0%|          | 0/80 [00:00<?, ?it/s]"
            ]
          },
          "metadata": {},
          "output_type": "display_data"
        },
        {
          "name": "stdout",
          "output_type": "stream",
          "text": [
            "Epoch 1/15 | Train Loss: 1.0747, IoU: 0.418 || Val Loss: 0.7728, IoU: 0.668\n",
            "💾 New best model saved! Val IoU: 0.6682\n"
          ]
        },
        {
          "data": {
            "application/vnd.jupyter.widget-view+json": {
              "model_id": "c8b5debbddf543f397c067536be3654d",
              "version_major": 2,
              "version_minor": 0
            },
            "text/plain": [
              "Training:   0%|          | 0/80 [00:00<?, ?it/s]"
            ]
          },
          "metadata": {},
          "output_type": "display_data"
        },
        {
          "name": "stdout",
          "output_type": "stream",
          "text": [
            "Epoch 2/15 | Train Loss: 0.7150, IoU: 0.649 || Val Loss: 0.5501, IoU: 0.734\n",
            "💾 New best model saved! Val IoU: 0.7339\n"
          ]
        },
        {
          "data": {
            "application/vnd.jupyter.widget-view+json": {
              "model_id": "fd8fc328d6224275b146cff0d9d7b2d6",
              "version_major": 2,
              "version_minor": 0
            },
            "text/plain": [
              "Training:   0%|          | 0/80 [00:00<?, ?it/s]"
            ]
          },
          "metadata": {},
          "output_type": "display_data"
        },
        {
          "name": "stdout",
          "output_type": "stream",
          "text": [
            "Epoch 3/15 | Train Loss: 0.5694, IoU: 0.701 || Val Loss: 0.4620, IoU: 0.755\n",
            "💾 New best model saved! Val IoU: 0.7551\n"
          ]
        },
        {
          "data": {
            "application/vnd.jupyter.widget-view+json": {
              "model_id": "0d0bb2df7acd48e6bd5367fbb7f29f1e",
              "version_major": 2,
              "version_minor": 0
            },
            "text/plain": [
              "Training:   0%|          | 0/80 [00:00<?, ?it/s]"
            ]
          },
          "metadata": {},
          "output_type": "display_data"
        },
        {
          "name": "stdout",
          "output_type": "stream",
          "text": [
            "Epoch 4/15 | Train Loss: 0.4764, IoU: 0.727 || Val Loss: 0.4047, IoU: 0.762\n",
            "💾 New best model saved! Val IoU: 0.7620\n"
          ]
        },
        {
          "data": {
            "application/vnd.jupyter.widget-view+json": {
              "model_id": "26753c6466084489b3d29c50e295ed05",
              "version_major": 2,
              "version_minor": 0
            },
            "text/plain": [
              "Training:   0%|          | 0/80 [00:00<?, ?it/s]"
            ]
          },
          "metadata": {},
          "output_type": "display_data"
        },
        {
          "name": "stdout",
          "output_type": "stream",
          "text": [
            "Epoch 5/15 | Train Loss: 0.4106, IoU: 0.746 || Val Loss: 0.3570, IoU: 0.762\n",
            "✅ Learning rate reduced to 5e-05\n"
          ]
        },
        {
          "data": {
            "application/vnd.jupyter.widget-view+json": {
              "model_id": "b367ed123ce44d9fa832e14fab11074e",
              "version_major": 2,
              "version_minor": 0
            },
            "text/plain": [
              "Training:   0%|          | 0/80 [00:00<?, ?it/s]"
            ]
          },
          "metadata": {},
          "output_type": "display_data"
        },
        {
          "name": "stdout",
          "output_type": "stream",
          "text": [
            "Epoch 6/15 | Train Loss: 0.3459, IoU: 0.785 || Val Loss: 0.3386, IoU: 0.769\n",
            "💾 New best model saved! Val IoU: 0.7688\n"
          ]
        },
        {
          "data": {
            "application/vnd.jupyter.widget-view+json": {
              "model_id": "75798dde12ad4d098d8cffa716ce3ac0",
              "version_major": 2,
              "version_minor": 0
            },
            "text/plain": [
              "Training:   0%|          | 0/80 [00:00<?, ?it/s]"
            ]
          },
          "metadata": {},
          "output_type": "display_data"
        },
        {
          "name": "stdout",
          "output_type": "stream",
          "text": [
            "Epoch 7/15 | Train Loss: 0.3150, IoU: 0.802 || Val Loss: 0.3217, IoU: 0.768\n",
            "✅ Learning rate reduced to 2.5e-05\n"
          ]
        },
        {
          "data": {
            "application/vnd.jupyter.widget-view+json": {
              "model_id": "85e7e65c11a34518a2bb8fecacf5351b",
              "version_major": 2,
              "version_minor": 0
            },
            "text/plain": [
              "Training:   0%|          | 0/80 [00:00<?, ?it/s]"
            ]
          },
          "metadata": {},
          "output_type": "display_data"
        },
        {
          "name": "stdout",
          "output_type": "stream",
          "text": [
            "Epoch 8/15 | Train Loss: 0.2893, IoU: 0.817 || Val Loss: 0.3134, IoU: 0.767\n"
          ]
        },
        {
          "data": {
            "application/vnd.jupyter.widget-view+json": {
              "model_id": "f65e0a6d78684ba1bf7343b8ff73c674",
              "version_major": 2,
              "version_minor": 0
            },
            "text/plain": [
              "Training:   0%|          | 0/80 [00:00<?, ?it/s]"
            ]
          },
          "metadata": {},
          "output_type": "display_data"
        },
        {
          "name": "stdout",
          "output_type": "stream",
          "text": [
            "Epoch 9/15 | Train Loss: 0.2770, IoU: 0.824 || Val Loss: 0.3081, IoU: 0.768\n"
          ]
        },
        {
          "data": {
            "application/vnd.jupyter.widget-view+json": {
              "model_id": "892723961f3a46c08f60c9263ea74d35",
              "version_major": 2,
              "version_minor": 0
            },
            "text/plain": [
              "Training:   0%|          | 0/80 [00:00<?, ?it/s]"
            ]
          },
          "metadata": {},
          "output_type": "display_data"
        },
        {
          "name": "stdout",
          "output_type": "stream",
          "text": [
            "Epoch 10/15 | Train Loss: 0.2594, IoU: 0.836 || Val Loss: 0.3074, IoU: 0.770\n",
            "💾 New best model saved! Val IoU: 0.7699\n"
          ]
        },
        {
          "data": {
            "application/vnd.jupyter.widget-view+json": {
              "model_id": "28b77ae705ca464f94530b3c30156d2f",
              "version_major": 2,
              "version_minor": 0
            },
            "text/plain": [
              "Training:   0%|          | 0/80 [00:00<?, ?it/s]"
            ]
          },
          "metadata": {},
          "output_type": "display_data"
        },
        {
          "name": "stdout",
          "output_type": "stream",
          "text": [
            "Epoch 11/15 | Train Loss: 0.2559, IoU: 0.839 || Val Loss: 0.3017, IoU: 0.770\n",
            "💾 New best model saved! Val IoU: 0.7701\n"
          ]
        },
        {
          "data": {
            "application/vnd.jupyter.widget-view+json": {
              "model_id": "0a67a5b9484247a2b356470d4ad06903",
              "version_major": 2,
              "version_minor": 0
            },
            "text/plain": [
              "Training:   0%|          | 0/80 [00:00<?, ?it/s]"
            ]
          },
          "metadata": {},
          "output_type": "display_data"
        },
        {
          "name": "stdout",
          "output_type": "stream",
          "text": [
            "Epoch 12/15 | Train Loss: 0.2465, IoU: 0.843 || Val Loss: 0.3018, IoU: 0.768\n",
            "✅ Learning rate reduced to 6.25e-06\n"
          ]
        },
        {
          "data": {
            "application/vnd.jupyter.widget-view+json": {
              "model_id": "3904dbe03f9346fdbd9706831a5a2525",
              "version_major": 2,
              "version_minor": 0
            },
            "text/plain": [
              "Training:   0%|          | 0/80 [00:00<?, ?it/s]"
            ]
          },
          "metadata": {},
          "output_type": "display_data"
        },
        {
          "name": "stdout",
          "output_type": "stream",
          "text": [
            "Epoch 13/15 | Train Loss: 0.2384, IoU: 0.849 || Val Loss: 0.2982, IoU: 0.770\n"
          ]
        },
        {
          "data": {
            "application/vnd.jupyter.widget-view+json": {
              "model_id": "ffec9fabefb34c36993f61ee701b3cae",
              "version_major": 2,
              "version_minor": 0
            },
            "text/plain": [
              "Training:   0%|          | 0/80 [00:00<?, ?it/s]"
            ]
          },
          "metadata": {},
          "output_type": "display_data"
        },
        {
          "name": "stdout",
          "output_type": "stream",
          "text": [
            "Epoch 14/15 | Train Loss: 0.2357, IoU: 0.850 || Val Loss: 0.2982, IoU: 0.771\n",
            "💾 New best model saved! Val IoU: 0.7709\n"
          ]
        },
        {
          "data": {
            "application/vnd.jupyter.widget-view+json": {
              "model_id": "2ceb5f34074343c0a530affca821954e",
              "version_major": 2,
              "version_minor": 0
            },
            "text/plain": [
              "Training:   0%|          | 0/80 [00:00<?, ?it/s]"
            ]
          },
          "metadata": {},
          "output_type": "display_data"
        },
        {
          "name": "stdout",
          "output_type": "stream",
          "text": [
            "Epoch 15/15 | Train Loss: 0.2346, IoU: 0.850 || Val Loss: 0.2953, IoU: 0.766\n",
            "✅ Learning rate reduced to 3.125e-06\n",
            "\n",
            "\n",
            "🏁 Training complete. Best model saved to /content/drive/Shared drives/USDA-Summer2025/models/UNet-ResNet50_GroupSplit_Champion.pth\n"
          ]
        }
      ],
      "source": [
        "# 8. Training and Validation Execution\n",
        "\n",
        "#  fixed 0.5 threshold for IoU calculation during training\n",
        "@torch.no_grad()\n",
        "def iou_from_logits(logits, y):\n",
        "    p = (torch.sigmoid(logits) > 0.5).float()\n",
        "    inter = (p * y).sum()\n",
        "    union = p.sum() + y.sum() - inter\n",
        "    return ((inter + 1e-6) / (union + 1e-6)).item()\n",
        "\n",
        "def train_epoch(loader, model):\n",
        "    model.train()\n",
        "    total_loss, total_iou = 0.0, 0.0\n",
        "    for x, y in tqdm(loader, desc=\"Training\", leave=False):\n",
        "        x, y = x.to(DEVICE, non_blocking=True), y.to(DEVICE, non_blocking=True)\n",
        "        optimizer.zero_grad(set_to_none=True)\n",
        "        with amp_autocast:\n",
        "            logits = model(x)\n",
        "            loss = combined_loss(logits, y)\n",
        "        scaler.scale(loss).backward()\n",
        "        scaler.step(optimizer)\n",
        "        scaler.update()\n",
        "        total_loss += loss.item()\n",
        "        total_iou  += iou_from_logits(logits.detach(), y)\n",
        "    return total_loss / len(loader), total_iou / len(loader)\n",
        "\n",
        "@torch.no_grad()\n",
        "def validate_epoch(loader, model):\n",
        "    model.eval()\n",
        "    total_loss, total_iou = 0.0, 0.0\n",
        "    for x, y in loader:\n",
        "        x, y = x.to(DEVICE, non_blocking=True), y.to(DEVICE, non_blocking=True)\n",
        "        with amp_autocast:\n",
        "            logits = model(x)\n",
        "            loss = combined_loss(logits, y)\n",
        "        total_loss += loss.item()\n",
        "        total_iou  += iou_from_logits(logits, y)\n",
        "    return total_loss / len(loader), total_iou / len(loader)\n",
        "\n",
        "print(\"\\n Starting main training loop...\")\n",
        "best_val_iou = -1.0\n",
        "os.makedirs(MODELS_SAVE_DIR, exist_ok=True)\n",
        "BEST_MODEL_PATH = os.path.join(MODELS_SAVE_DIR, 'UNet-ResNet50_GroupSplit_Champion.pth')\n",
        "\n",
        "for ep in range(1, NUM_EPOCHS + 1):\n",
        "    tr_loss, tr_iou = train_epoch(train_loader, model)\n",
        "    va_loss, va_iou = validate_epoch(val_loader, model)\n",
        "    print(f\"Epoch {ep}/{NUM_EPOCHS} | Train Loss: {tr_loss:.4f}, IoU: {tr_iou:.3f} || Val Loss: {va_loss:.4f}, IoU: {va_iou:.3f}\")\n",
        "\n",
        "\n",
        "\n",
        "    old_lr = optimizer.param_groups[0]['lr']\n",
        "    scheduler.step(va_iou)\n",
        "    new_lr = optimizer.param_groups[0]['lr']\n",
        "    if new_lr < old_lr:\n",
        "      print(f\" Learning rate reduced to {new_lr}\")\n",
        "\n",
        "\n",
        "    if va_iou > best_val_iou:\n",
        "        best_val_iou = va_iou\n",
        "        torch.save(model.state_dict(), BEST_MODEL_PATH)\n",
        "        print(f\" New best model saved! Val IoU: {best_val_iou:.4f}\")\n",
        "\n",
        "print(f\"\\n\\n Training complete. Best model saved to {BEST_MODEL_PATH}\")"
      ]
    },
    {
      "cell_type": "code",
      "execution_count": null,
      "metadata": {
        "colab": {
          "base_uri": "https://localhost:8080/",
          "height": 139,
          "referenced_widgets": [
            "c68f4c4e86ad463090a75314eeab80bd",
            "996c22b6bc4a47a3a37357f0e88f26cb",
            "8c44cf1b8f9347edb95b669930fffa1a",
            "e2bfcfef4f3b486ab9da7acc1a38084b",
            "4cb1a0172e0245778d73f8b53a0d81cd",
            "a9455a6c4ecb468c940dfe18e93e5191",
            "9ba17438b779426cba358a81a3c99029",
            "86db6d316ed847119330786ecdda0e62",
            "a69f5165bd8844b3817390e535536052",
            "4e7b382c8b09468ab8e61392eaa7a64d",
            "4cf28441c0094da984ab83390d113e9d",
            "e0e35879f94d464f926f3ed5d46149c2",
            "1934f184922f4112b0e073832cb796c6",
            "cc8672e8f8d34b17bd53d8a9f4b8d00a",
            "95d2fbe828b84cb18509367f55e5a658",
            "9438c07a4a084851be21817c195d4bd8",
            "e647fb7bf40f4aab8b1f83388740c6db",
            "ee8f40b2f15640a091d01b6b6ebf6e7a",
            "f5d328852548486e8d3097dea176e5c5",
            "5b06d00ff913476e88456647ae5de2cd",
            "90dc5c2cce2040c0ad7413dafdfacfa0",
            "274d12e24a4e49d1be7df6218fa12e13",
            "1a7a6858daf1485bb9d07e4dba284d7e",
            "e6bf12f14a254a159e1a5947e3923c86",
            "f38d5aa05b9348d895c66cf6ee6ed804",
            "71f415e4d3af4449b106bbe120a76775",
            "34adecbefa4947f5a6edc9e93752b4c1",
            "89bf85c0368244a9830f2bb92a6d890c",
            "d7e01c443adb41d797b0e7c4b1be9aba",
            "bf8ca4e5e93a44bfbc18361086160a99",
            "a502251baaa64fc3af8567748ff8a8e9",
            "301dc041748e404db000ce3f18bd0abe",
            "cf887c56f79947acac6b44442a1ebd47",
            "391126f279f149d1ae208a38b1fb7a82",
            "6524c18777434369a13b0d62428f618c",
            "250ceceae64c4016b2713440f35c51a2",
            "0bc58e85b19646179d9f745673376b3b",
            "a98f578662a2426eaf8b096b47ee81b6",
            "a97a82886e1945ba8ba049bc2514932b",
            "bac46d39d4834c1c9bc6cc40d0635f8b",
            "d3e30d8358b64cc3a6f85ef4004fd829",
            "437b3767e37341c0b00578d3ebdc2ba4",
            "09c5da0c0dd8438295c5d2b21382d701",
            "f1eaa46df63a46d1901185b91646c43d",
            "e7ac36fa5a144781ab1f029a611fd533",
            "141c235c7c724d46a433557a32d17c71",
            "5b73c22d20744dc193fd831f1a384ab8",
            "4e52c73a68e94b468e7592e9127df1b3",
            "9010150a7a90447ebe4ddd17a4606c50",
            "9d51dfcb486c431e8a2d50e9f81209e0",
            "402d6f7b9e9a41978f22f0a058d96cdc",
            "f0b439ce8d2d4577bf6177b8c89c58f5",
            "a08a1893b98a4f6e9918b7093b87dafe",
            "6b7839313bad4788a60048ba58d79f1a",
            "a93b36456b4440309bbc91e1b73cefb2",
            "eb3769b52320461d82a8186b4e030f0b",
            "5b81fc3c0bd04753a13878a7de36f37d",
            "c2fcc5136ee248a49ca69d1f671ed322",
            "4a506a51768c4706919ba0fd994f13dd",
            "457d89a267414dd79d9d4efc3552ce84",
            "330c919f0aad4fc2b07a2bfe99127013",
            "2cc5541f298f4bd28fc9e7b66c5739d7",
            "a82d58c57e554e83bcfb09be642d676f",
            "51dce5a9a5b14af08223c7b8c6942bbd",
            "b776cbc2c74e4ae9883952e4fcef6577",
            "4d33509179e141258ee5b2565b112f9a",
            "f306ce5b190e48d0a415f300efcdfe39",
            "c86cc71062e24ddfb1f363c63837e2a2",
            "86e5a6fdead84510becd857a5981b7c0",
            "1b9dfd45165d432397e8787ac55d4fbd",
            "8a705f7b8fdf410397b6148d16996e4a",
            "7e0248da57b943c58feeb1f1885487ff",
            "f7d6a440f932474a8d3ea54a32d56590",
            "3912af64d6684afc86c03a767b125c1b",
            "cc78a0530a9c439c9bedf49c8441d2e5",
            "8ae97c89ef784478a24f5710066e7346",
            "3d9d078c549349a997d81ce5b252b31f",
            "19f7e66f9c6b48bfbc37ec149c0c32df",
            "6f6fa275e43942c092083971d86764a2",
            "9b2b04f90aca4e23b50b63eefee91f86",
            "1a1484c1f0654ec8b22544e6c05d1bdb",
            "131b7498fafe4646ad351ca420f76381",
            "e33ff226d26d4198ac0b29b7b6e0853e",
            "75d8a0d8294f4376a2000ac37c1bc3e4",
            "80b1cbd631264bac80ebb7e9dab6b624",
            "36b4afc086e94fb88e0bcd02c6f14eb0",
            "7a928b68f6834cc990fa1f534b2e78fa",
            "6a98c3fcff964700a169c2bd6a97f494",
            "bd1ef306fabe467da473078121b38c03",
            "b31b0e541c0a43809e04627ecb461e8f",
            "9fdc2d21ce56450193afa836f4278e04",
            "30a79f34751e48a6b99a400ee1eea8c4",
            "7abb0b49dab44ba2b682f588e20edfb1",
            "6347c769fcde41bfafa1c95929d5dc1e",
            "e3f0e37445f4450dae93e095970b9d40",
            "63fcabae7d934732918d44e3e1c0cacf",
            "c9d2b9d120dc4a74b891ba99d7fb6df5",
            "dad9bb471f4146b9ac35d4dadcd04332",
            "ee327c6231e54615af436f767b049c23",
            "452aa367117e446ca99dc564743f0e3a",
            "1f4b37890d2e46fa94ae368329b355a0",
            "2bcb2c4ce7354babb20afb6da411098e",
            "dd88364e949e4691b777ccbac66b3fcc",
            "b661cb7782954944bdc3889f84718421",
            "5290c62491ce4eb38576786eeb396285",
            "fc2744f9ae1c4a64a401e7680c3dfe55",
            "91265041f060417c9cadf8e7e7ab4c4a",
            "d92da30f82d34a658fd7768aa5638165",
            "933c02f1bb914a238461d159410ac279",
            "1a4f0fe256fe4714ab5f94b0bea1b8ff"
          ]
        },
        "id": "VwNaWqYPAsnz",
        "outputId": "75b35102-496a-437c-c999-6c8b9289394a"
      },
      "outputs": [
        {
          "name": "stdout",
          "output_type": "stream",
          "text": [
            "\n",
            "🔍 Finding optimal threshold on validation set...\n"
          ]
        },
        {
          "data": {
            "application/vnd.jupyter.widget-view+json": {
              "model_id": "c68f4c4e86ad463090a75314eeab80bd",
              "version_major": 2,
              "version_minor": 0
            },
            "text/plain": [
              "Eval with Thresh=0.30:   0%|          | 0/16 [00:00<?, ?it/s]"
            ]
          },
          "metadata": {},
          "output_type": "display_data"
        },
        {
          "data": {
            "application/vnd.jupyter.widget-view+json": {
              "model_id": "e0e35879f94d464f926f3ed5d46149c2",
              "version_major": 2,
              "version_minor": 0
            },
            "text/plain": [
              "Eval with Thresh=0.35:   0%|          | 0/16 [00:00<?, ?it/s]"
            ]
          },
          "metadata": {},
          "output_type": "display_data"
        },
        {
          "data": {
            "application/vnd.jupyter.widget-view+json": {
              "model_id": "1a7a6858daf1485bb9d07e4dba284d7e",
              "version_major": 2,
              "version_minor": 0
            },
            "text/plain": [
              "Eval with Thresh=0.40:   0%|          | 0/16 [00:00<?, ?it/s]"
            ]
          },
          "metadata": {},
          "output_type": "display_data"
        },
        {
          "data": {
            "application/vnd.jupyter.widget-view+json": {
              "model_id": "391126f279f149d1ae208a38b1fb7a82",
              "version_major": 2,
              "version_minor": 0
            },
            "text/plain": [
              "Eval with Thresh=0.45:   0%|          | 0/16 [00:00<?, ?it/s]"
            ]
          },
          "metadata": {},
          "output_type": "display_data"
        },
        {
          "data": {
            "application/vnd.jupyter.widget-view+json": {
              "model_id": "e7ac36fa5a144781ab1f029a611fd533",
              "version_major": 2,
              "version_minor": 0
            },
            "text/plain": [
              "Eval with Thresh=0.50:   0%|          | 0/16 [00:00<?, ?it/s]"
            ]
          },
          "metadata": {},
          "output_type": "display_data"
        },
        {
          "data": {
            "application/vnd.jupyter.widget-view+json": {
              "model_id": "eb3769b52320461d82a8186b4e030f0b",
              "version_major": 2,
              "version_minor": 0
            },
            "text/plain": [
              "Eval with Thresh=0.55:   0%|          | 0/16 [00:00<?, ?it/s]"
            ]
          },
          "metadata": {},
          "output_type": "display_data"
        },
        {
          "data": {
            "application/vnd.jupyter.widget-view+json": {
              "model_id": "f306ce5b190e48d0a415f300efcdfe39",
              "version_major": 2,
              "version_minor": 0
            },
            "text/plain": [
              "Eval with Thresh=0.60:   0%|          | 0/16 [00:00<?, ?it/s]"
            ]
          },
          "metadata": {},
          "output_type": "display_data"
        },
        {
          "data": {
            "application/vnd.jupyter.widget-view+json": {
              "model_id": "19f7e66f9c6b48bfbc37ec149c0c32df",
              "version_major": 2,
              "version_minor": 0
            },
            "text/plain": [
              "Eval with Thresh=0.65:   0%|          | 0/16 [00:00<?, ?it/s]"
            ]
          },
          "metadata": {},
          "output_type": "display_data"
        },
        {
          "data": {
            "application/vnd.jupyter.widget-view+json": {
              "model_id": "bd1ef306fabe467da473078121b38c03",
              "version_major": 2,
              "version_minor": 0
            },
            "text/plain": [
              "Eval with Thresh=0.70:   0%|          | 0/16 [00:00<?, ?it/s]"
            ]
          },
          "metadata": {},
          "output_type": "display_data"
        },
        {
          "name": "stdout",
          "output_type": "stream",
          "text": [
            "Optimal threshold found: 0.35 (with Val IoU: 0.7813)\n",
            "\n",
            "🧪 Evaluating on test set with the chosen threshold...\n"
          ]
        },
        {
          "data": {
            "application/vnd.jupyter.widget-view+json": {
              "model_id": "452aa367117e446ca99dc564743f0e3a",
              "version_major": 2,
              "version_minor": 0
            },
            "text/plain": [
              "Eval with Thresh=0.35:   0%|          | 0/58 [00:00<?, ?it/s]"
            ]
          },
          "metadata": {},
          "output_type": "display_data"
        },
        {
          "name": "stdout",
          "output_type": "stream",
          "text": [
            "\n",
            "✅ Final Test IoU: 0.7220\n"
          ]
        }
      ],
      "source": [
        "# 9. Find Optimal Threshold & Final Test Evaluation\n",
        "\n",
        "model.load_state_dict(torch.load(BEST_MODEL_PATH, map_location=DEVICE))\n",
        "\n",
        "@torch.no_grad()\n",
        "def eval_iou_with_threshold(loader, model, thresh=0.5):\n",
        "    model.eval()\n",
        "    total_intersection, total_union = 0.0, 0.0\n",
        "    for xb, yb in tqdm(loader, desc=f\"Eval with Thresh={thresh:.2f}\", leave=False):\n",
        "        xb, yb = xb.to(DEVICE), yb.to(DEVICE)\n",
        "        p = (torch.sigmoid(model(xb)) > thresh).float()\n",
        "        total_intersection += (p * yb).sum().item()\n",
        "        total_union += (p.sum() + yb.sum() - (p * yb).sum()).item()\n",
        "    return (total_intersection + 1e-6) / (total_union + 1e-6)\n",
        "\n",
        "# 1. Sweep thresholds on the validation set to find the best one\n",
        "print(\"\\n Finding optimal threshold on validation set...\")\n",
        "thresholds = np.linspace(0.3, 0.7, 9)\n",
        "val_ious = [eval_iou_with_threshold(val_loader, model, t) for t in thresholds]\n",
        "best_t_idx = np.argmax(val_ious)\n",
        "best_threshold = thresholds[best_t_idx]\n",
        "print(f\"Optimal threshold found: {best_threshold:.2f} (with Val IoU: {val_ious[best_t_idx]:.4f})\")\n",
        "\n",
        "# 2. Use the single best threshold to get the final score on the test set\n",
        "print(\"\\n Evaluating on test set with the chosen threshold...\")\n",
        "test_iou = eval_iou_with_threshold(test_loader, model, best_threshold)\n",
        "print(f\"\\n Final Test IoU: {test_iou:.4f}\")"
      ]
    },
    {
      "cell_type": "code",
      "execution_count": null,
      "metadata": {
        "colab": {
          "base_uri": "https://localhost:8080/",
          "height": 173,
          "referenced_widgets": [
            "0bd2d50e13104e8389ebe1a11c25c2df",
            "65ed25442d044a958be5992af97afd07",
            "cb8718fe73234066bd41345c9c7d1f8a",
            "cd6ee689539f46988d7a0374370f8238",
            "5dce2b5206694e90a0a6cb92ad42fd4d",
            "ddb6096b1c0a44459d5601a687baf7a4",
            "b5437f8121bf46d8acb496640633d461",
            "9bb20a4286374d5197458209e814bdee",
            "1b9cdfd837694f5892e6d2688bcacce0",
            "16cd0da65b40402ea703d5e33d720b03",
            "53297b2e888a4361b75e4d81ee363f09",
            "d34d889ea4284642b04442f6f5c41b82",
            "3032be6d15f44b28bdd1e77fa5215eb6",
            "ffc26af738af43c8819f483bd4e1cbd5",
            "c7efa71257204836932040503e5f3a8b",
            "5af29f3f17614f3d89f17d75ced6616b",
            "8a5abcfcdb3d463ab840b10a05806c55",
            "194b8f692f624050a0b6730b33685056",
            "5a1ba030fe4a4ad2a71202e401ae755e",
            "5051bb07645240b989cacf488c1fec5d",
            "a539b16d7a3c40d9ad881b96f92ce395",
            "054c232c1c1840c58c2db41e5333e99b",
            "ff34b0a209c440c4b16c614f9c6f5fdc",
            "bb27bb0ff55b4ad092b7ffbcb5d708a0",
            "c288ad49802a46209dd5d223933404bc",
            "14f93052bb9b42fa9ad6b38c3a68e83b",
            "9eda4852873942d49aca2e5b14a50220",
            "7f24148ad173423e8d34a81471d70a09",
            "b7b93f9180254e17befb40b6322e0cfd",
            "e4944681a66e46c5ae610446e74f3e39",
            "dd674539deb44df986b46baccc2bee4c",
            "700bff33fd80401a8a6caaaf7a6f0b79",
            "566d7667d6b54f6495771ad8ae276d62",
            "7f975afe0f1d4150b269e5bf349b15f9",
            "efbd648f0e714d9fa3e05fe35f893bda",
            "b8c73f4460cf4c93a83c5eded1c13a44",
            "1157ec3b3bd14bf7b27f4fd985ece5fc",
            "6c98124cf3074af1a7c4ccd62689e97f",
            "d52f71d9a8704382999d7535acbfa076",
            "d9c86ef971a94651bf94291538dccb06",
            "9b9979013ac0460fb046f591e66c7668",
            "bdf871dabc534edeab3662a01880780a",
            "2ec5d5aa9e45486fa1b94056aba2612a",
            "95f0f0792bc143219c3bdf6a5a588c02",
            "3a24dab465bd447ebad8326e4da97c69",
            "a1ae5e5f5c2e4cd8a6b13d0768114c49",
            "3d1d201e623545749a291ce7675070a4",
            "e3e0ad44ae1b4b48b4daac508ad5ba67",
            "8872c39f6a584cbc8fc6834f2d9d61ef",
            "9c861cc813cc47ca997bb50a1efba71d",
            "26621d1bda2d47bbba50387ac3994894",
            "4d7690e1ffb44b6891c5f2082877cb25",
            "555af1f434af4f12bfa6f234ab9fc6b7",
            "9b0ad6826f0c4ea5900a205a46a53590",
            "6867c34fbac8409b80b6cbeb5468a443",
            "ba320e1ce91a4614a590f071e5153229",
            "d8eb027f15bb40a4b68e7cbafbe2422c",
            "8f6d7117e0a8472ca3d529fa2f2960e0",
            "4c464f6745fa4483ae43715c6dfe63f2",
            "8420ca1285894e39a365b4599412da7b",
            "c742cd0e288e4f44a25ec79412393034",
            "0646735024f6442bad8630342d246f20",
            "281754e220a04be097f51cb6200ea2e6",
            "5d4a256f57f34b86acaca8a2e2e2be48",
            "f4835561117c44168b1699ee2407de91",
            "2d41de5a260c4eb3b9c6d2eabccf179f",
            "dc9e47f2ee624a5991656f513baf5e35",
            "d10c29d5810d4f0680248e491b5dd62b",
            "80c63f83e4cf4f249da4a8e76ef57f87",
            "9a048e9d21d54b4aa2177ac631addc81",
            "3b0eaeed039447af9a6afaf6f29c7a1a",
            "1e0b9bc690c84a3798926cfb6951e8da",
            "2743833fa6f24274b680e4d495cee59e",
            "e115498b89564d9d9e4c5cc4265999aa",
            "2b6ae1b4f8584b1e93360003bfb2d1fe",
            "b86189727ef34da7906ffeea5d453a46",
            "d90ab6929bbb4959a769a6c2b7741f02",
            "93feaa090338427ab7a59dcf89c5b3ce",
            "be34a0d5ddda42c2ac2ddb4bbe6febc9",
            "7b828a7a953147f7a26cfca9ef476a93",
            "7ccff1401cb547d8aa4a2b0530dc79a4",
            "e89fd56261314d29bfe59ab6970e6988",
            "d6365f84a06b44f9919ce662d7b415d7",
            "3b46f0685a6c4f5abd441646bbcf1ff4",
            "03a30bcc9bbe449d942e568e18df331d",
            "76001be918164fb19c8afc5ab0e4ebb4",
            "a3a5f8cab33e47cdbdcae709bfdf4ad6",
            "fcf69a33e0984b379a2918f5bcbe29c3",
            "63be90e4bd9640339b84142865b24e7c",
            "8ca1fc7072b44f7db0775c41c2da1496",
            "f8517a418da74da082af7f632c5e2878",
            "be5c1b0bf3524d55ba01a0afc10de63a",
            "29a90720dd3a475ea82463079d7cb8f9",
            "742cbac3f6d24218aac8d4aee1535c40",
            "da74239eb51b44b585fe494b23729bd0",
            "2e2e1861360e44d1932211b96bb17971",
            "c1ca5e5cf5b44977b74c2f3d707aca88",
            "8b3eb9ab46244fe794ee086e6d5fbe05",
            "cf2c1660a4304f9bae151c58b9896744",
            "712d8c53195b4910b1b7834c00a2b1d9",
            "6b36dbdf2402482cb624f34bc6efb550",
            "63f7251d097245fe9ba18e6c39eca1a6",
            "50bdd9da82a54d58bb5f7e716994acfc",
            "fa790d2eb4b9499cbb978a26a0ffa5cb",
            "d903931fb1ee4c41a03875ec2ab83a15",
            "35d5ffd17d924c2ea390c9d22573009c",
            "cec30661ffba4de7bd207b4319cbb943",
            "1180a7adac5a4ce78dadbebc4ec1bbb5",
            "224bb6fb318a40629bba2667345c44a6",
            "06dd302ad7ac42e3b54fcb56ea4937ae"
          ]
        },
        "id": "PK_5Ds9uQGDo",
        "outputId": "96bf6c3a-d5f0-4260-83d4-c8c9e3c59453"
      },
      "outputs": [
        {
          "name": "stdout",
          "output_type": "stream",
          "text": [
            "✅ Found model file: Unet-ResNet50_IoU-val83-test82.pth\n",
            "✅ Successfully loaded model weights.\n",
            "\n",
            "🔍 Finding optimal threshold for this model on validation set...\n"
          ]
        },
        {
          "data": {
            "application/vnd.jupyter.widget-view+json": {
              "model_id": "0bd2d50e13104e8389ebe1a11c25c2df",
              "version_major": 2,
              "version_minor": 0
            },
            "text/plain": [
              "Eval with Thresh=0.30:   0%|          | 0/16 [00:00<?, ?it/s]"
            ]
          },
          "metadata": {},
          "output_type": "display_data"
        },
        {
          "data": {
            "application/vnd.jupyter.widget-view+json": {
              "model_id": "d34d889ea4284642b04442f6f5c41b82",
              "version_major": 2,
              "version_minor": 0
            },
            "text/plain": [
              "Eval with Thresh=0.35:   0%|          | 0/16 [00:00<?, ?it/s]"
            ]
          },
          "metadata": {},
          "output_type": "display_data"
        },
        {
          "data": {
            "application/vnd.jupyter.widget-view+json": {
              "model_id": "ff34b0a209c440c4b16c614f9c6f5fdc",
              "version_major": 2,
              "version_minor": 0
            },
            "text/plain": [
              "Eval with Thresh=0.40:   0%|          | 0/16 [00:00<?, ?it/s]"
            ]
          },
          "metadata": {},
          "output_type": "display_data"
        },
        {
          "data": {
            "application/vnd.jupyter.widget-view+json": {
              "model_id": "7f975afe0f1d4150b269e5bf349b15f9",
              "version_major": 2,
              "version_minor": 0
            },
            "text/plain": [
              "Eval with Thresh=0.45:   0%|          | 0/16 [00:00<?, ?it/s]"
            ]
          },
          "metadata": {},
          "output_type": "display_data"
        },
        {
          "data": {
            "application/vnd.jupyter.widget-view+json": {
              "model_id": "3a24dab465bd447ebad8326e4da97c69",
              "version_major": 2,
              "version_minor": 0
            },
            "text/plain": [
              "Eval with Thresh=0.50:   0%|          | 0/16 [00:00<?, ?it/s]"
            ]
          },
          "metadata": {},
          "output_type": "display_data"
        },
        {
          "data": {
            "application/vnd.jupyter.widget-view+json": {
              "model_id": "ba320e1ce91a4614a590f071e5153229",
              "version_major": 2,
              "version_minor": 0
            },
            "text/plain": [
              "Eval with Thresh=0.55:   0%|          | 0/16 [00:00<?, ?it/s]"
            ]
          },
          "metadata": {},
          "output_type": "display_data"
        },
        {
          "data": {
            "application/vnd.jupyter.widget-view+json": {
              "model_id": "dc9e47f2ee624a5991656f513baf5e35",
              "version_major": 2,
              "version_minor": 0
            },
            "text/plain": [
              "Eval with Thresh=0.60:   0%|          | 0/16 [00:00<?, ?it/s]"
            ]
          },
          "metadata": {},
          "output_type": "display_data"
        },
        {
          "data": {
            "application/vnd.jupyter.widget-view+json": {
              "model_id": "93feaa090338427ab7a59dcf89c5b3ce",
              "version_major": 2,
              "version_minor": 0
            },
            "text/plain": [
              "Eval with Thresh=0.65:   0%|          | 0/16 [00:00<?, ?it/s]"
            ]
          },
          "metadata": {},
          "output_type": "display_data"
        },
        {
          "data": {
            "application/vnd.jupyter.widget-view+json": {
              "model_id": "63be90e4bd9640339b84142865b24e7c",
              "version_major": 2,
              "version_minor": 0
            },
            "text/plain": [
              "Eval with Thresh=0.70:   0%|          | 0/16 [00:00<?, ?it/s]"
            ]
          },
          "metadata": {},
          "output_type": "display_data"
        },
        {
          "name": "stdout",
          "output_type": "stream",
          "text": [
            "Optimal threshold found: 0.55 (with Val IoU: 0.8804)\n",
            "\n",
            "🧪 Evaluating on test set with the chosen threshold...\n"
          ]
        },
        {
          "data": {
            "application/vnd.jupyter.widget-view+json": {
              "model_id": "712d8c53195b4910b1b7834c00a2b1d9",
              "version_major": 2,
              "version_minor": 0
            },
            "text/plain": [
              "Eval with Thresh=0.55:   0%|          | 0/58 [00:00<?, ?it/s]"
            ]
          },
          "metadata": {},
          "output_type": "display_data"
        },
        {
          "name": "stdout",
          "output_type": "stream",
          "text": [
            "\n",
            "✅ Final Test IoU for 'Unet-ResNet50_IoU-val83-test82.pth': 0.8636\n"
          ]
        }
      ],
      "source": [
        "# 9b: Evaluating Previous Unet\n",
        "import os\n",
        "import torch\n",
        "import numpy as np\n",
        "from tqdm.notebook import tqdm\n",
        "\n",
        "OTHER_MODEL_PATH = '/content/drive/Shared drives/USDA-Summer2025/src/rory_models/Unet-ResNet50_IoU-val83-test82.pth'\n",
        "\n",
        "if not os.path.exists(OTHER_MODEL_PATH):\n",
        "    raise FileNotFoundError(f\"Model not found at: {OTHER_MODEL_PATH}\")\n",
        "else:\n",
        "    print(f\"✅ Found model file: {os.path.basename(OTHER_MODEL_PATH)}\")\n",
        "\n",
        "# --- 2. Create a new \"shell\" of the model architecture ---\n",
        "model_to_test = smp.Unet(\n",
        "    encoder_name='resnet50',\n",
        "    encoder_weights=None,\n",
        "    in_channels=3,\n",
        "    classes=1,\n",
        ").to(DEVICE)\n",
        "\n",
        "# --- 3. Load the saved weights ---\n",
        "model_to_test.load_state_dict(torch.load(OTHER_MODEL_PATH, map_location=DEVICE))\n",
        "print(\" Loaded model weights.\")\n",
        "\n",
        "# --- 4. Run the same evaluation logic ---\n",
        "\n",
        "# Sweep thresholds on the validation set\n",
        "print(\"\\n Finding optimal threshold for this model on validation set...\")\n",
        "thresholds = np.linspace(0.3, 0.7, 9)\n",
        "val_ious = [eval_iou_with_threshold(val_loader, model_to_test, t) for t in thresholds]\n",
        "best_t_idx = np.argmax(val_ious)\n",
        "best_threshold = thresholds[best_t_idx]\n",
        "print(f\"Optimal threshold found: {best_threshold:.2f} (with Val IoU: {val_ious[best_t_idx]:.4f})\")\n",
        "\n",
        "# Use the best threshold for the final score on the test set\n",
        "print(\"\\n Evaluating on test set with the chosen threshold...\")\n",
        "test_iou = eval_iou_with_threshold(test_loader, model_to_test, best_threshold)\n",
        "print(f\"\\n Final Test IoU for '{os.path.basename(OTHER_MODEL_PATH)}': {test_iou:.4f}\")"
      ]
    },
    {
      "cell_type": "code",
      "execution_count": null,
      "metadata": {
        "colab": {
          "base_uri": "https://localhost:8080/",
          "height": 173,
          "referenced_widgets": [
            "42a8f17281204554964dd12c360f0dae",
            "31b1d881cbff4ef29dd5ca8bd63a5cac",
            "b234c1186b014ee18f3f81dd9a410eeb",
            "2429668af9b0426f881d13586b97b078",
            "a21b2b9c7daa4651a58f387ddb885557",
            "4d1092f07301410fa4732ac11b170bc7",
            "00b34fbfa3e04a46a7fe714c7cb71b58",
            "4eb5002ebe5a491ba21e9a8fedcf8b18",
            "5ac42578660d454c90e6feca2e3e3910",
            "08372791870243818999a5acd19062ce",
            "1a0f2aeddcd744fdb6f015c69fdaf3e4",
            "b57b2e893aaa41e4b805daaf6e269fd5",
            "13c4143cb87d462eb035b9463b50b2f9",
            "5a2e5047121247db9f5391441ffb2c4c",
            "831270a7661f47ddb118ee9317a8e857",
            "b1aa483409184372be1680ca3fec2fee",
            "5c75831119bc44518e17177304a5d3bc",
            "a81b6eb8c7774be8ac463c6a0eafa557",
            "64824c378adb4123a468da479d8fdcc7",
            "6df8a3295de24020a438ad5e29aa7796",
            "9237f446f110427bae75dc3d609a1fc8",
            "079b69fa34b242db9d66ba415891edca",
            "9690330dd7724ee3ba6a07c43206f80b",
            "826ad1475d3a4886b5a8bf48050f7d79",
            "ee95ec43775e4b7f9b1bdc91dd9ab576",
            "b78a406791c949ca8b683c6633a8910d",
            "138d18e4b8c1449c9e66fce0c441ebd4",
            "caf5c735ce9e4db4a5bdb5533dcfc06f",
            "0533dee819884de3a91925b6052ced94",
            "f178f1d94f834615a22eb78ce3bc89bb",
            "35a39ead38624d52a2604ff26e02aa32",
            "c1ad8941382b4b7092d2ba374514e4bc",
            "8a51dab43b9b40b2abeb036f58dca602"
          ]
        },
        "id": "PjDgJuY8AvLG",
        "outputId": "9e44cf89-0057-4cea-fcde-7010f15d8ee2"
      },
      "outputs": [
        {
          "name": "stdout",
          "output_type": "stream",
          "text": [
            "\n",
            "📊 Analyzing foreground ratio distributions...\n"
          ]
        },
        {
          "data": {
            "application/vnd.jupyter.widget-view+json": {
              "model_id": "42a8f17281204554964dd12c360f0dae",
              "version_major": 2,
              "version_minor": 0
            },
            "text/plain": [
              "Analyzing ratios:   0%|          | 0/639 [00:00<?, ?it/s]"
            ]
          },
          "metadata": {},
          "output_type": "display_data"
        },
        {
          "data": {
            "application/vnd.jupyter.widget-view+json": {
              "model_id": "b57b2e893aaa41e4b805daaf6e269fd5",
              "version_major": 2,
              "version_minor": 0
            },
            "text/plain": [
              "Analyzing ratios:   0%|          | 0/121 [00:00<?, ?it/s]"
            ]
          },
          "metadata": {},
          "output_type": "display_data"
        },
        {
          "data": {
            "application/vnd.jupyter.widget-view+json": {
              "model_id": "9690330dd7724ee3ba6a07c43206f80b",
              "version_major": 2,
              "version_minor": 0
            },
            "text/plain": [
              "Analyzing ratios:   0%|          | 0/457 [00:00<?, ?it/s]"
            ]
          },
          "metadata": {},
          "output_type": "display_data"
        },
        {
          "name": "stdout",
          "output_type": "stream",
          "text": [
            "Train coverage: mean=0.088 ± 0.065\n",
            "Val   coverage: mean=0.104 ± 0.056\n",
            "Test  coverage: mean=0.100 ± 0.077\n",
            "\n",
            "--- Kolmogorov-Smirnov Test (Distribution Similarity) ---\n",
            "KS(train,val)  p-value: 0.0007\n",
            "KS(train,test) p-value: 0.0177\n"
          ]
        }
      ],
      "source": [
        "# 10.  Analyze Data Split Distributions\n",
        "\n",
        "!pip install --upgrade scipy -q\n",
        "from scipy.stats import ks_2samp\n",
        "\n",
        "def get_foreground_ratio(mask_path):\n",
        "    mask = cv2.imread(mask_path, cv2.IMREAD_GRAYSCALE)\n",
        "    if mask is None: return 0.0\n",
        "    return float((mask > 0).sum()) / float(mask.size)\n",
        "\n",
        "def analyze_ratios(paths, mask_dir=LOCAL_MASK_DIR):\n",
        "    ratios = []\n",
        "    for img_path in tqdm(paths, desc=\"Analyzing ratios\", leave=False):\n",
        "        base, _ = os.path.splitext(os.path.basename(img_path))\n",
        "        mask_path = os.path.join(mask_dir, f\"{base}_mask.png\")\n",
        "        if not os.path.exists(mask_path):\n",
        "             mask_path = os.path.join(mask_dir, os.path.basename(img_path))\n",
        "        ratios.append(get_foreground_ratio(mask_path))\n",
        "\n",
        "    arr = np.array(ratios, dtype=np.float32)\n",
        "    return arr, float(arr.mean()), float(arr.std())\n",
        "\n",
        "print(\"\\n📊 Analyzing foreground ratio distributions...\")\n",
        "r_tr, m_tr, s_tr = analyze_ratios(train_paths)\n",
        "r_va, m_va, s_va = analyze_ratios(val_paths)\n",
        "r_te, m_te, s_te = analyze_ratios(test_paths)\n",
        "\n",
        "print(f\"Train coverage: mean={m_tr:.3f} ± {s_tr:.3f}\")\n",
        "print(f\"Val   coverage: mean={m_va:.3f} ± {s_va:.3f}\")\n",
        "print(f\"Test  coverage: mean={m_te:.3f} ± {s_te:.3f}\")\n",
        "\n",
        "print(\"\\n--- Kolmogorov-Smirnov Test (Distribution Similarity) ---\")\n",
        "print(f\"KS(train,val)  p-value: {ks_2samp(r_tr, r_va).pvalue:.4f}\")\n",
        "print(f\"KS(train,test) p-value: {ks_2samp(r_tr, r_te).pvalue:.4f}\")"
      ]
    }
  ],
  "metadata": {
    "accelerator": "GPU",
    "colab": {
      "gpuType": "T4",
      "provenance": [],
      "authorship_tag": "ABX9TyP5QGUk7ihRPplk/Rjm4oYr",
      "include_colab_link": true
    },
    "kernelspec": {
      "display_name": "Python 3",
      "name": "python3"
    },
    "language_info": {
      "name": "python"
    }
  },
  "nbformat": 4,
  "nbformat_minor": 0
}